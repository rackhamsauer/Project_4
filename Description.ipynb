{
 "cells": [
  {
   "cell_type": "code",
   "execution_count": 1,
   "metadata": {
    "colab": {
     "base_uri": "https://localhost:8080/",
     "height": 293
    },
    "id": "8u1WOuEKjU6J",
    "outputId": "1ea6f035-c64c-4e4a-880a-6b4c431ee56f"
   },
   "outputs": [
    {
     "data": {
      "text/html": [
       "<div>\n",
       "<style scoped>\n",
       "    .dataframe tbody tr th:only-of-type {\n",
       "        vertical-align: middle;\n",
       "    }\n",
       "\n",
       "    .dataframe tbody tr th {\n",
       "        vertical-align: top;\n",
       "    }\n",
       "\n",
       "    .dataframe thead th {\n",
       "        text-align: right;\n",
       "    }\n",
       "</style>\n",
       "<table border=\"1\" class=\"dataframe\">\n",
       "  <thead>\n",
       "    <tr style=\"text-align: right;\">\n",
       "      <th></th>\n",
       "      <th>id</th>\n",
       "      <th>screen_name</th>\n",
       "      <th>default_profile</th>\n",
       "      <th>description</th>\n",
       "      <th>created_at</th>\n",
       "      <th>geo_enabled</th>\n",
       "      <th>lang</th>\n",
       "      <th>statuses_count</th>\n",
       "      <th>followers_count</th>\n",
       "      <th>favourites_count</th>\n",
       "      <th>verified</th>\n",
       "      <th>account_type</th>\n",
       "    </tr>\n",
       "  </thead>\n",
       "  <tbody>\n",
       "    <tr>\n",
       "      <th>0</th>\n",
       "      <td>16282004</td>\n",
       "      <td>eckates</td>\n",
       "      <td>1</td>\n",
       "      <td>My name is Enrique! ! I'm a highly experienced...</td>\n",
       "      <td>2008-09-14 13:20:09</td>\n",
       "      <td>0</td>\n",
       "      <td>en</td>\n",
       "      <td>11405</td>\n",
       "      <td>819</td>\n",
       "      <td>0</td>\n",
       "      <td>0</td>\n",
       "      <td>1</td>\n",
       "    </tr>\n",
       "    <tr>\n",
       "      <th>1</th>\n",
       "      <td>16740486</td>\n",
       "      <td>genebailey</td>\n",
       "      <td>0</td>\n",
       "      <td>Author, Speaker, Father, Friend, Motivator, Re...</td>\n",
       "      <td>2008-10-14 18:11:24</td>\n",
       "      <td>1</td>\n",
       "      <td>en</td>\n",
       "      <td>520</td>\n",
       "      <td>219</td>\n",
       "      <td>36</td>\n",
       "      <td>0</td>\n",
       "      <td>1</td>\n",
       "    </tr>\n",
       "    <tr>\n",
       "      <th>2</th>\n",
       "      <td>17132768</td>\n",
       "      <td>patrickghoward</td>\n",
       "      <td>0</td>\n",
       "      <td>Patrick G Howard is an experienced project &amp; p...</td>\n",
       "      <td>2008-11-03 16:51:00</td>\n",
       "      <td>0</td>\n",
       "      <td>en</td>\n",
       "      <td>4671</td>\n",
       "      <td>38877</td>\n",
       "      <td>6</td>\n",
       "      <td>0</td>\n",
       "      <td>1</td>\n",
       "    </tr>\n",
       "    <tr>\n",
       "      <th>3</th>\n",
       "      <td>18013384</td>\n",
       "      <td>DoggieCakes</td>\n",
       "      <td>0</td>\n",
       "      <td>Dog Bakery and Boutique - Retail (Events and O...</td>\n",
       "      <td>2008-12-10 06:44:57</td>\n",
       "      <td>1</td>\n",
       "      <td>en</td>\n",
       "      <td>8512</td>\n",
       "      <td>2069</td>\n",
       "      <td>70</td>\n",
       "      <td>0</td>\n",
       "      <td>1</td>\n",
       "    </tr>\n",
       "    <tr>\n",
       "      <th>4</th>\n",
       "      <td>21331733</td>\n",
       "      <td>DavidVarrone</td>\n",
       "      <td>0</td>\n",
       "      <td>Home Based Business and Personal Development C...</td>\n",
       "      <td>2009-02-19 20:46:02</td>\n",
       "      <td>0</td>\n",
       "      <td>en</td>\n",
       "      <td>245</td>\n",
       "      <td>6656</td>\n",
       "      <td>1</td>\n",
       "      <td>0</td>\n",
       "      <td>1</td>\n",
       "    </tr>\n",
       "  </tbody>\n",
       "</table>\n",
       "</div>"
      ],
      "text/plain": [
       "         id     screen_name  default_profile  \\\n",
       "0  16282004         eckates                1   \n",
       "1  16740486      genebailey                0   \n",
       "2  17132768  patrickghoward                0   \n",
       "3  18013384     DoggieCakes                0   \n",
       "4  21331733    DavidVarrone                0   \n",
       "\n",
       "                                         description           created_at  \\\n",
       "0  My name is Enrique! ! I'm a highly experienced...  2008-09-14 13:20:09   \n",
       "1  Author, Speaker, Father, Friend, Motivator, Re...  2008-10-14 18:11:24   \n",
       "2  Patrick G Howard is an experienced project & p...  2008-11-03 16:51:00   \n",
       "3  Dog Bakery and Boutique - Retail (Events and O...  2008-12-10 06:44:57   \n",
       "4  Home Based Business and Personal Development C...  2009-02-19 20:46:02   \n",
       "\n",
       "   geo_enabled lang  statuses_count  followers_count  favourites_count  \\\n",
       "0            0   en           11405              819                 0   \n",
       "1            1   en             520              219                36   \n",
       "2            0   en            4671            38877                 6   \n",
       "3            1   en            8512             2069                70   \n",
       "4            0   en             245             6656                 1   \n",
       "\n",
       "   verified  account_type  \n",
       "0         0             1  \n",
       "1         0             1  \n",
       "2         0             1  \n",
       "3         0             1  \n",
       "4         0             1  "
      ]
     },
     "execution_count": 1,
     "metadata": {},
     "output_type": "execute_result"
    }
   ],
   "source": [
    "# add csv file\n",
    "import pandas as pd\n",
    "pd.set_option('display.max_columns', None)\n",
    "url = 'https://raw.githubusercontent.com/rackhamsauer/Project_4/main/Data/clean_data.csv'\n",
    "df = pd.read_csv(url)\n",
    "df.head()\n",
    "\n",
    "\n"
   ]
  },
  {
   "cell_type": "code",
   "execution_count": 2,
   "metadata": {
    "colab": {
     "base_uri": "https://localhost:8080/"
    },
    "id": "GlVyqHZ0kBw3",
    "outputId": "74d8b312-27ef-4667-95db-95392487db56"
   },
   "outputs": [
    {
     "data": {
      "text/plain": [
       "62199"
      ]
     },
     "execution_count": 2,
     "metadata": {},
     "output_type": "execute_result"
    }
   ],
   "source": [
    "# Split the description column into individual words\n",
    "from collections import Counter\n",
    "import re\n",
    "\n",
    "words_list = df['description'].str.split()\n",
    "df['cleaned_description'] = df['description'].str.lower().apply(lambda x: re.sub(r'[^a-z\\s]', '', x))\n",
    "words_series = df['cleaned_description'].str.split(expand=True).stack()\n",
    "\n",
    "word_counts = Counter(words_series)\n",
    "words_dict = dict(word_counts)\n",
    "\n",
    "len(list(words_dict))"
   ]
  },
  {
   "cell_type": "code",
   "execution_count": 3,
   "metadata": {
    "colab": {
     "base_uri": "https://localhost:8080/",
     "height": 206
    },
    "id": "mUyouFqNwNj6",
    "outputId": "81196b84-4e52-469c-9e07-f7bbca03a83a"
   },
   "outputs": [
    {
     "data": {
      "text/html": [
       "<div>\n",
       "<style scoped>\n",
       "    .dataframe tbody tr th:only-of-type {\n",
       "        vertical-align: middle;\n",
       "    }\n",
       "\n",
       "    .dataframe tbody tr th {\n",
       "        vertical-align: top;\n",
       "    }\n",
       "\n",
       "    .dataframe thead th {\n",
       "        text-align: right;\n",
       "    }\n",
       "</style>\n",
       "<table border=\"1\" class=\"dataframe\">\n",
       "  <thead>\n",
       "    <tr style=\"text-align: right;\">\n",
       "      <th></th>\n",
       "      <th>Word</th>\n",
       "      <th>Count</th>\n",
       "    </tr>\n",
       "  </thead>\n",
       "  <tbody>\n",
       "    <tr>\n",
       "      <th>0</th>\n",
       "      <td>my</td>\n",
       "      <td>3064</td>\n",
       "    </tr>\n",
       "    <tr>\n",
       "      <th>1</th>\n",
       "      <td>name</td>\n",
       "      <td>125</td>\n",
       "    </tr>\n",
       "    <tr>\n",
       "      <th>2</th>\n",
       "      <td>is</td>\n",
       "      <td>2204</td>\n",
       "    </tr>\n",
       "    <tr>\n",
       "      <th>3</th>\n",
       "      <td>enrique</td>\n",
       "      <td>3</td>\n",
       "    </tr>\n",
       "    <tr>\n",
       "      <th>4</th>\n",
       "      <td>im</td>\n",
       "      <td>1204</td>\n",
       "    </tr>\n",
       "  </tbody>\n",
       "</table>\n",
       "</div>"
      ],
      "text/plain": [
       "      Word  Count\n",
       "0       my   3064\n",
       "1     name    125\n",
       "2       is   2204\n",
       "3  enrique      3\n",
       "4       im   1204"
      ]
     },
     "execution_count": 3,
     "metadata": {},
     "output_type": "execute_result"
    }
   ],
   "source": [
    "words_df = pd.DataFrame(list(words_dict.items()), columns=['Word', 'Count'])\n",
    "words_df.head()"
   ]
  },
  {
   "cell_type": "code",
   "execution_count": 4,
   "metadata": {},
   "outputs": [
    {
     "data": {
      "text/plain": [
       "0        my name is enrique  im a highly experienced en...\n",
       "1        author speaker father friend motivator restore...\n",
       "2        patrick g howard is an experienced project  pr...\n",
       "3        dog bakery and boutique  retail events and onl...\n",
       "4        home based business and personal development c...\n",
       "                               ...                        \n",
       "29939    role stock taker past roles nanny sales assist...\n",
       "29940                       kingdom landlord freecornbread\n",
       "29941    bienvenids al twitter oficial de sergio dalma ...\n",
       "29942    just a good guy wrapped up in a bad system\\nac...\n",
       "29943                                                     \n",
       "Name: cleaned_description, Length: 29944, dtype: object"
      ]
     },
     "execution_count": 4,
     "metadata": {},
     "output_type": "execute_result"
    }
   ],
   "source": [
    "df['cleaned_description']"
   ]
  },
  {
   "cell_type": "code",
   "execution_count": 5,
   "metadata": {
    "colab": {
     "base_uri": "https://localhost:8080/",
     "height": 1000
    },
    "id": "h5X9vYRmAC1E",
    "outputId": "e1f27897-808a-4c5c-eed0-c032bee11b70"
   },
   "outputs": [
    {
     "data": {
      "text/plain": [
       "array([18,  6, 12, ...,  4, 11,  0])"
      ]
     },
     "execution_count": 5,
     "metadata": {},
     "output_type": "execute_result"
    }
   ],
   "source": [
    "from sklearn.feature_extraction.text import CountVectorizer\n",
    "import re\n",
    "\n",
    "# Adjust the preprocessing function to be less restrictive\n",
    "def preprocess(text):\n",
    "    text = re.sub(r'\\d+', '', text)  # Remove numbers\n",
    "    return text\n",
    "\n",
    "# Initialize CountVectorizer with the adjusted preprocessor\n",
    "vectorizer = CountVectorizer(stop_words=None, max_features=1500, preprocessor=preprocess)\n",
    "\n",
    "# Fit and transform the data again with the adjusted settings\n",
    "X_adjusted = vectorizer.fit_transform(df['cleaned_description'])\n",
    "\n",
    "non_zero_counts = X_adjusted.getnnz(1)\n",
    "non_zero_counts"
   ]
  },
  {
   "cell_type": "code",
   "execution_count": 6,
   "metadata": {
    "scrolled": true
   },
   "outputs": [],
   "source": [
    "# Create a DataFrame from the output\n",
    "word_count_df = pd.DataFrame(X_adjusted.toarray(), columns=vectorizer.get_feature_names_out())"
   ]
  },
  {
   "cell_type": "code",
   "execution_count": 7,
   "metadata": {
    "id": "S6lODSgqAOzw"
   },
   "outputs": [],
   "source": [
    "# Concatenate the original DataFrame with the word count DataFrame\n",
    "description_df = pd.concat([df, word_count_df], axis=1)"
   ]
  },
  {
   "cell_type": "code",
   "execution_count": 8,
   "metadata": {},
   "outputs": [],
   "source": [
    "description_df.to_csv('Data/description.csv', index=False)"
   ]
  },
  {
   "cell_type": "code",
   "execution_count": null,
   "metadata": {},
   "outputs": [],
   "source": []
  }
 ],
 "metadata": {
  "colab": {
   "provenance": []
  },
  "kernelspec": {
   "display_name": "Python 3 (ipykernel)",
   "language": "python",
   "name": "python3"
  },
  "language_info": {
   "codemirror_mode": {
    "name": "ipython",
    "version": 3
   },
   "file_extension": ".py",
   "mimetype": "text/x-python",
   "name": "python",
   "nbconvert_exporter": "python",
   "pygments_lexer": "ipython3",
   "version": "3.10.13"
  }
 },
 "nbformat": 4,
 "nbformat_minor": 4
}
