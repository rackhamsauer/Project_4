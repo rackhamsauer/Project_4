{
 "cells": [
  {
   "cell_type": "code",
   "execution_count": 1,
   "id": "c654efd4",
   "metadata": {},
   "outputs": [],
   "source": [
    "# Initial imports\n",
    "import pandas as pd\n",
    "from pathlib import Path\n",
    "from sklearn import tree\n",
    "from sklearn.ensemble import RandomForestClassifier\n",
    "from sklearn.preprocessing import StandardScaler\n",
    "from sklearn.model_selection import train_test_split\n",
    "from sklearn.metrics import confusion_matrix, accuracy_score, classification_report"
   ]
  },
  {
   "cell_type": "code",
   "execution_count": 2,
   "id": "da867b23",
   "metadata": {},
   "outputs": [
    {
     "data": {
      "text/html": [
       "<div>\n",
       "<style scoped>\n",
       "    .dataframe tbody tr th:only-of-type {\n",
       "        vertical-align: middle;\n",
       "    }\n",
       "\n",
       "    .dataframe tbody tr th {\n",
       "        vertical-align: top;\n",
       "    }\n",
       "\n",
       "    .dataframe thead th {\n",
       "        text-align: right;\n",
       "    }\n",
       "</style>\n",
       "<table border=\"1\" class=\"dataframe\">\n",
       "  <thead>\n",
       "    <tr style=\"text-align: right;\">\n",
       "      <th></th>\n",
       "      <th>id</th>\n",
       "      <th>screen_name</th>\n",
       "      <th>default_profile</th>\n",
       "      <th>description</th>\n",
       "      <th>created_at</th>\n",
       "      <th>geo_enabled</th>\n",
       "      <th>lang</th>\n",
       "      <th>statuses_count</th>\n",
       "      <th>followers_count</th>\n",
       "      <th>favourites_count</th>\n",
       "      <th>verified</th>\n",
       "      <th>account_type</th>\n",
       "    </tr>\n",
       "  </thead>\n",
       "  <tbody>\n",
       "    <tr>\n",
       "      <th>0</th>\n",
       "      <td>16282004</td>\n",
       "      <td>eckates</td>\n",
       "      <td>1</td>\n",
       "      <td>My name is Enrique! ! I'm a highly experienced...</td>\n",
       "      <td>2008-09-14 13:20:09</td>\n",
       "      <td>0</td>\n",
       "      <td>en</td>\n",
       "      <td>11405</td>\n",
       "      <td>819</td>\n",
       "      <td>0</td>\n",
       "      <td>0</td>\n",
       "      <td>1</td>\n",
       "    </tr>\n",
       "    <tr>\n",
       "      <th>1</th>\n",
       "      <td>16740486</td>\n",
       "      <td>genebailey</td>\n",
       "      <td>0</td>\n",
       "      <td>Author, Speaker, Father, Friend, Motivator, Re...</td>\n",
       "      <td>2008-10-14 18:11:24</td>\n",
       "      <td>1</td>\n",
       "      <td>en</td>\n",
       "      <td>520</td>\n",
       "      <td>219</td>\n",
       "      <td>36</td>\n",
       "      <td>0</td>\n",
       "      <td>1</td>\n",
       "    </tr>\n",
       "    <tr>\n",
       "      <th>2</th>\n",
       "      <td>17132768</td>\n",
       "      <td>patrickghoward</td>\n",
       "      <td>0</td>\n",
       "      <td>Patrick G Howard is an experienced project &amp; p...</td>\n",
       "      <td>2008-11-03 16:51:00</td>\n",
       "      <td>0</td>\n",
       "      <td>en</td>\n",
       "      <td>4671</td>\n",
       "      <td>38877</td>\n",
       "      <td>6</td>\n",
       "      <td>0</td>\n",
       "      <td>1</td>\n",
       "    </tr>\n",
       "    <tr>\n",
       "      <th>3</th>\n",
       "      <td>18013384</td>\n",
       "      <td>DoggieCakes</td>\n",
       "      <td>0</td>\n",
       "      <td>Dog Bakery and Boutique - Retail (Events and O...</td>\n",
       "      <td>2008-12-10 06:44:57</td>\n",
       "      <td>1</td>\n",
       "      <td>en</td>\n",
       "      <td>8512</td>\n",
       "      <td>2069</td>\n",
       "      <td>70</td>\n",
       "      <td>0</td>\n",
       "      <td>1</td>\n",
       "    </tr>\n",
       "    <tr>\n",
       "      <th>4</th>\n",
       "      <td>21331733</td>\n",
       "      <td>DavidVarrone</td>\n",
       "      <td>0</td>\n",
       "      <td>Home Based Business and Personal Development C...</td>\n",
       "      <td>2009-02-19 20:46:02</td>\n",
       "      <td>0</td>\n",
       "      <td>en</td>\n",
       "      <td>245</td>\n",
       "      <td>6656</td>\n",
       "      <td>1</td>\n",
       "      <td>0</td>\n",
       "      <td>1</td>\n",
       "    </tr>\n",
       "  </tbody>\n",
       "</table>\n",
       "</div>"
      ],
      "text/plain": [
       "         id     screen_name  default_profile  \\\n",
       "0  16282004         eckates                1   \n",
       "1  16740486      genebailey                0   \n",
       "2  17132768  patrickghoward                0   \n",
       "3  18013384     DoggieCakes                0   \n",
       "4  21331733    DavidVarrone                0   \n",
       "\n",
       "                                         description           created_at  \\\n",
       "0  My name is Enrique! ! I'm a highly experienced...  2008-09-14 13:20:09   \n",
       "1  Author, Speaker, Father, Friend, Motivator, Re...  2008-10-14 18:11:24   \n",
       "2  Patrick G Howard is an experienced project & p...  2008-11-03 16:51:00   \n",
       "3  Dog Bakery and Boutique - Retail (Events and O...  2008-12-10 06:44:57   \n",
       "4  Home Based Business and Personal Development C...  2009-02-19 20:46:02   \n",
       "\n",
       "   geo_enabled lang  statuses_count  followers_count  favourites_count  \\\n",
       "0            0   en           11405              819                 0   \n",
       "1            1   en             520              219                36   \n",
       "2            0   en            4671            38877                 6   \n",
       "3            1   en            8512             2069                70   \n",
       "4            0   en             245             6656                 1   \n",
       "\n",
       "   verified  account_type  \n",
       "0         0             1  \n",
       "1         0             1  \n",
       "2         0             1  \n",
       "3         0             1  \n",
       "4         0             1  "
      ]
     },
     "execution_count": 2,
     "metadata": {},
     "output_type": "execute_result"
    }
   ],
   "source": [
    "# Loading data\n",
    "data = Path(\"Data/clean_data.csv\")\n",
    "data_df = pd.read_csv(data)\n",
    "data_df.head()"
   ]
  },
  {
   "cell_type": "code",
   "execution_count": 3,
   "id": "0c3da746",
   "metadata": {},
   "outputs": [
    {
     "data": {
      "text/plain": [
       "id                   int64\n",
       "screen_name         object\n",
       "default_profile      int64\n",
       "description         object\n",
       "created_at          object\n",
       "geo_enabled          int64\n",
       "lang                object\n",
       "statuses_count       int64\n",
       "followers_count      int64\n",
       "favourites_count     int64\n",
       "verified             int64\n",
       "account_type         int64\n",
       "dtype: object"
      ]
     },
     "execution_count": 3,
     "metadata": {},
     "output_type": "execute_result"
    }
   ],
   "source": [
    "data_df.dtypes"
   ]
  },
  {
   "cell_type": "code",
   "execution_count": 4,
   "id": "d4381e9f",
   "metadata": {},
   "outputs": [
    {
     "data": {
      "text/html": [
       "<div>\n",
       "<style scoped>\n",
       "    .dataframe tbody tr th:only-of-type {\n",
       "        vertical-align: middle;\n",
       "    }\n",
       "\n",
       "    .dataframe tbody tr th {\n",
       "        vertical-align: top;\n",
       "    }\n",
       "\n",
       "    .dataframe thead th {\n",
       "        text-align: right;\n",
       "    }\n",
       "</style>\n",
       "<table border=\"1\" class=\"dataframe\">\n",
       "  <thead>\n",
       "    <tr style=\"text-align: right;\">\n",
       "      <th></th>\n",
       "      <th>id</th>\n",
       "      <th>screen_name</th>\n",
       "      <th>default_profile</th>\n",
       "      <th>description</th>\n",
       "      <th>created_at</th>\n",
       "      <th>geo_enabled</th>\n",
       "      <th>lang</th>\n",
       "      <th>statuses_count</th>\n",
       "      <th>followers_count</th>\n",
       "      <th>favourites_count</th>\n",
       "      <th>verified</th>\n",
       "    </tr>\n",
       "  </thead>\n",
       "  <tbody>\n",
       "    <tr>\n",
       "      <th>0</th>\n",
       "      <td>16282004</td>\n",
       "      <td>eckates</td>\n",
       "      <td>1</td>\n",
       "      <td>My name is Enrique! ! I'm a highly experienced...</td>\n",
       "      <td>2008-09-14 13:20:09</td>\n",
       "      <td>0</td>\n",
       "      <td>en</td>\n",
       "      <td>11405</td>\n",
       "      <td>819</td>\n",
       "      <td>0</td>\n",
       "      <td>0</td>\n",
       "    </tr>\n",
       "    <tr>\n",
       "      <th>1</th>\n",
       "      <td>16740486</td>\n",
       "      <td>genebailey</td>\n",
       "      <td>0</td>\n",
       "      <td>Author, Speaker, Father, Friend, Motivator, Re...</td>\n",
       "      <td>2008-10-14 18:11:24</td>\n",
       "      <td>1</td>\n",
       "      <td>en</td>\n",
       "      <td>520</td>\n",
       "      <td>219</td>\n",
       "      <td>36</td>\n",
       "      <td>0</td>\n",
       "    </tr>\n",
       "    <tr>\n",
       "      <th>2</th>\n",
       "      <td>17132768</td>\n",
       "      <td>patrickghoward</td>\n",
       "      <td>0</td>\n",
       "      <td>Patrick G Howard is an experienced project &amp; p...</td>\n",
       "      <td>2008-11-03 16:51:00</td>\n",
       "      <td>0</td>\n",
       "      <td>en</td>\n",
       "      <td>4671</td>\n",
       "      <td>38877</td>\n",
       "      <td>6</td>\n",
       "      <td>0</td>\n",
       "    </tr>\n",
       "    <tr>\n",
       "      <th>3</th>\n",
       "      <td>18013384</td>\n",
       "      <td>DoggieCakes</td>\n",
       "      <td>0</td>\n",
       "      <td>Dog Bakery and Boutique - Retail (Events and O...</td>\n",
       "      <td>2008-12-10 06:44:57</td>\n",
       "      <td>1</td>\n",
       "      <td>en</td>\n",
       "      <td>8512</td>\n",
       "      <td>2069</td>\n",
       "      <td>70</td>\n",
       "      <td>0</td>\n",
       "    </tr>\n",
       "    <tr>\n",
       "      <th>4</th>\n",
       "      <td>21331733</td>\n",
       "      <td>DavidVarrone</td>\n",
       "      <td>0</td>\n",
       "      <td>Home Based Business and Personal Development C...</td>\n",
       "      <td>2009-02-19 20:46:02</td>\n",
       "      <td>0</td>\n",
       "      <td>en</td>\n",
       "      <td>245</td>\n",
       "      <td>6656</td>\n",
       "      <td>1</td>\n",
       "      <td>0</td>\n",
       "    </tr>\n",
       "  </tbody>\n",
       "</table>\n",
       "</div>"
      ],
      "text/plain": [
       "         id     screen_name  default_profile  \\\n",
       "0  16282004         eckates                1   \n",
       "1  16740486      genebailey                0   \n",
       "2  17132768  patrickghoward                0   \n",
       "3  18013384     DoggieCakes                0   \n",
       "4  21331733    DavidVarrone                0   \n",
       "\n",
       "                                         description           created_at  \\\n",
       "0  My name is Enrique! ! I'm a highly experienced...  2008-09-14 13:20:09   \n",
       "1  Author, Speaker, Father, Friend, Motivator, Re...  2008-10-14 18:11:24   \n",
       "2  Patrick G Howard is an experienced project & p...  2008-11-03 16:51:00   \n",
       "3  Dog Bakery and Boutique - Retail (Events and O...  2008-12-10 06:44:57   \n",
       "4  Home Based Business and Personal Development C...  2009-02-19 20:46:02   \n",
       "\n",
       "   geo_enabled lang  statuses_count  followers_count  favourites_count  \\\n",
       "0            0   en           11405              819                 0   \n",
       "1            1   en             520              219                36   \n",
       "2            0   en            4671            38877                 6   \n",
       "3            1   en            8512             2069                70   \n",
       "4            0   en             245             6656                 1   \n",
       "\n",
       "   verified  \n",
       "0         0  \n",
       "1         0  \n",
       "2         0  \n",
       "3         0  \n",
       "4         0  "
      ]
     },
     "execution_count": 4,
     "metadata": {},
     "output_type": "execute_result"
    }
   ],
   "source": [
    "# Define features set\n",
    "X = data_df.copy()\n",
    "X.drop(\"account_type\", axis=1, inplace=True)\n",
    "X.head()"
   ]
  },
  {
   "cell_type": "code",
   "execution_count": 5,
   "id": "d55a994d",
   "metadata": {},
   "outputs": [
    {
     "data": {
      "text/plain": [
       "array([[1],\n",
       "       [1],\n",
       "       [1],\n",
       "       [1],\n",
       "       [1]], dtype=int64)"
      ]
     },
     "execution_count": 5,
     "metadata": {},
     "output_type": "execute_result"
    }
   ],
   "source": [
    "# Define target vector\n",
    "y = data_df[\"account_type\"].values.reshape(-1, 1)\n",
    "y[:5]\n"
   ]
  },
  {
   "cell_type": "code",
   "execution_count": 6,
   "id": "61d9007e",
   "metadata": {},
   "outputs": [],
   "source": [
    "#drop the non-numerical columns\n",
    "X = X.drop(columns=['screen_name', 'description', 'created_at', 'lang'])\n"
   ]
  },
  {
   "cell_type": "code",
   "execution_count": 7,
   "id": "d0106861",
   "metadata": {},
   "outputs": [],
   "source": [
    "# Splitting into Train and Test sets\n",
    "X_train, X_test, y_train, y_test = train_test_split(X, y, random_state=78)"
   ]
  },
  {
   "cell_type": "code",
   "execution_count": 8,
   "id": "59ab8a66",
   "metadata": {},
   "outputs": [],
   "source": [
    "# Create the StandardScaler instance\n",
    "scaler = StandardScaler()"
   ]
  },
  {
   "cell_type": "code",
   "execution_count": 9,
   "id": "8b0a3b63",
   "metadata": {},
   "outputs": [],
   "source": [
    "# Fit the Standard Scaler with the training data\n",
    "X_scaler = scaler.fit(X_train)"
   ]
  },
  {
   "cell_type": "code",
   "execution_count": 10,
   "id": "607d93e3",
   "metadata": {},
   "outputs": [],
   "source": [
    "# Scale the training data\n",
    "X_train_scaled = X_scaler.transform(X_train)\n",
    "X_test_scaled = X_scaler.transform(X_test)"
   ]
  },
  {
   "cell_type": "code",
   "execution_count": 11,
   "id": "62348d3e",
   "metadata": {},
   "outputs": [],
   "source": [
    "# Create the random forest classifier instance\n",
    "rf_model = RandomForestClassifier(n_estimators=500, random_state=78)"
   ]
  },
  {
   "cell_type": "code",
   "execution_count": 12,
   "id": "c7d3bac9",
   "metadata": {},
   "outputs": [],
   "source": [
    "# Fit the model and use .ravel()on the \"y_train\" data. \n",
    "rf_model = rf_model.fit(X_train_scaled, y_train.ravel())"
   ]
  },
  {
   "cell_type": "code",
   "execution_count": 13,
   "id": "6c172b34",
   "metadata": {},
   "outputs": [],
   "source": [
    "# Making predictions using the testing data\n",
    "predictions = rf_model.predict(X_test_scaled)"
   ]
  },
  {
   "cell_type": "code",
   "execution_count": 14,
   "id": "dbbb145a",
   "metadata": {},
   "outputs": [],
   "source": [
    "# Calculating the confusion matrix\n",
    "cm = confusion_matrix(y_test, predictions)\n",
    "cm_df = pd.DataFrame(\n",
    "    cm, index=[\"Actual 0\", \"Actual 1\"], columns=[\"Predicted 0\", \"Predicted 1\"]\n",
    ")\n",
    "\n",
    "# Calculating the accuracy score\n",
    "acc_score = accuracy_score(y_test, predictions)"
   ]
  },
  {
   "cell_type": "code",
   "execution_count": 15,
   "id": "3516efe4",
   "metadata": {},
   "outputs": [
    {
     "name": "stdout",
     "output_type": "stream",
     "text": [
      "Confusion Matrix\n"
     ]
    },
    {
     "data": {
      "text/html": [
       "<div>\n",
       "<style scoped>\n",
       "    .dataframe tbody tr th:only-of-type {\n",
       "        vertical-align: middle;\n",
       "    }\n",
       "\n",
       "    .dataframe tbody tr th {\n",
       "        vertical-align: top;\n",
       "    }\n",
       "\n",
       "    .dataframe thead th {\n",
       "        text-align: right;\n",
       "    }\n",
       "</style>\n",
       "<table border=\"1\" class=\"dataframe\">\n",
       "  <thead>\n",
       "    <tr style=\"text-align: right;\">\n",
       "      <th></th>\n",
       "      <th>Predicted 0</th>\n",
       "      <th>Predicted 1</th>\n",
       "    </tr>\n",
       "  </thead>\n",
       "  <tbody>\n",
       "    <tr>\n",
       "      <th>Actual 0</th>\n",
       "      <td>5078</td>\n",
       "      <td>271</td>\n",
       "    </tr>\n",
       "    <tr>\n",
       "      <th>Actual 1</th>\n",
       "      <td>615</td>\n",
       "      <td>1522</td>\n",
       "    </tr>\n",
       "  </tbody>\n",
       "</table>\n",
       "</div>"
      ],
      "text/plain": [
       "          Predicted 0  Predicted 1\n",
       "Actual 0         5078          271\n",
       "Actual 1          615         1522"
      ]
     },
     "metadata": {},
     "output_type": "display_data"
    },
    {
     "name": "stdout",
     "output_type": "stream",
     "text": [
      "Accuracy Score : 0.8816457387122629\n",
      "Classification Report\n",
      "              precision    recall  f1-score   support\n",
      "\n",
      "           0       0.89      0.95      0.92      5349\n",
      "           1       0.85      0.71      0.77      2137\n",
      "\n",
      "    accuracy                           0.88      7486\n",
      "   macro avg       0.87      0.83      0.85      7486\n",
      "weighted avg       0.88      0.88      0.88      7486\n",
      "\n"
     ]
    }
   ],
   "source": [
    "# Displaying results\n",
    "print(\"Confusion Matrix\")\n",
    "display(cm_df)\n",
    "print(f\"Accuracy Score : {acc_score}\")\n",
    "print(\"Classification Report\")\n",
    "print(classification_report(y_test, predictions))"
   ]
  },
  {
   "cell_type": "code",
   "execution_count": 16,
   "id": "c1cab608",
   "metadata": {},
   "outputs": [
    {
     "data": {
      "text/plain": [
       "[(0.31495218099835787, 'favourites_count'),\n",
       " (0.28230005862742147, 'followers_count'),\n",
       " (0.22887952514413842, 'statuses_count'),\n",
       " (0.06576057936858277, 'id'),\n",
       " (0.04884690646366215, 'geo_enabled'),\n",
       " (0.04381405258099685, 'verified'),\n",
       " (0.015446696816840392, 'default_profile')]"
      ]
     },
     "execution_count": 16,
     "metadata": {},
     "output_type": "execute_result"
    }
   ],
   "source": [
    "# Get the feature importance array\n",
    "importances = rf_model.feature_importances_\n",
    "# List the top 10 most important features\n",
    "importances_sorted = sorted(zip(rf_model.feature_importances_, X.columns), reverse=True)\n",
    "importances_sorted[:10]"
   ]
  },
  {
   "cell_type": "code",
   "execution_count": 17,
   "id": "7a516511",
   "metadata": {},
   "outputs": [
    {
     "data": {
      "text/plain": [
       "<Axes: title={'center': 'Features Importances'}, ylabel='1'>"
      ]
     },
     "execution_count": 17,
     "metadata": {},
     "output_type": "execute_result"
    },
    {
     "data": {
      "image/png": "[encoded data removed]",
      "text/plain": [
       "<Figure size 640x480 with 1 Axes>"
      ]
     },
     "metadata": {},
     "output_type": "display_data"
    }
   ],
   "source": [
    "# Visualize the features by importance\n",
    "importances_df = pd.DataFrame(sorted(zip(rf_model.feature_importances_, X.columns), reverse=True))\n",
    "importances_df.set_index(importances_df[1], inplace=True)\n",
    "importances_df.drop(columns=1, inplace=True)\n",
    "importances_df.rename(columns={0: 'Feature Importances'}, inplace=True)\n",
    "importances_sorted = importances_df.sort_values(by='Feature Importances')\n",
    "importances_sorted.plot(kind='barh', color='lightgreen', title= 'Features Importances', legend=False)"
   ]
  }
 ],
 "metadata": {
  "kernelspec": {
   "display_name": "Python 3 (ipykernel)",
   "language": "python",
   "name": "python3"
  },
  "language_info": {
   "codemirror_mode": {
    "name": "ipython",
    "version": 3
   },
   "file_extension": ".py",
   "mimetype": "text/x-python",
   "name": "python",
   "nbconvert_exporter": "python",
   "pygments_lexer": "ipython3",
   "version": "3.11.5"
  }
 },
 "nbformat": 4,
 "nbformat_minor": 5
}
